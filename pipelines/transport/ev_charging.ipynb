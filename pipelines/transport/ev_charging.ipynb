{
 "cells": [
  {
   "cell_type": "markdown",
   "metadata": {},
   "source": [
    "Overall aim is to use the grant scheme stats in combination with public available charging points to assign EV charge points to local authorities."
   ]
  },
  {
   "cell_type": "code",
   "execution_count": 1,
   "metadata": {},
   "outputs": [],
   "source": [
    "import os\n",
    "import json\n",
    "os.chdir(\"../..\")\n",
    "from pipelines.util import *"
   ]
  },
  {
   "cell_type": "code",
   "execution_count": 2,
   "metadata": {},
   "outputs": [],
   "source": [
    "def filter_local_authorities(df, colname):\n",
    "    '''\n",
    "    Extracts LAs only from a dataframe with arbitrary GSS codes.\n",
    "\n",
    "    Parameters\n",
    "    ---\n",
    "    df: dataframe\n",
    "\n",
    "    colname: the name containing GSS codes.\n",
    "    '''\n",
    "    assert colname in df.columns, f\"No column called {colname} in dataframe\"\n",
    "    result = df[df[colname].str.match('^(E06|E07|E08|E09|S12|W06|N09)([0-9]{6})')]\n",
    "    return result\n",
    "\n",
    "def local_authority_to_constituency(data, floor=True):\n",
    "    '''\n",
    "    Map LAs to constituencies using a lookup of overlaps.\n",
    "    '''\n",
    "    with open('lookups/lookup-LAD24CD-PCON24CD.json') as f:\n",
    "        lookup = json.load(f)\n",
    "\n",
    "    # create an empty dataframe to put the data into\n",
    "    df = pd.DataFrame(columns=['PCON24CD', 'workplace-jan-25', 'home-2022'])\n",
    "    df.set_index('PCON24CD', inplace=True)\n",
    "\n",
    "    # iterate through each column of the LA_Code dataframe\n",
    "    for la, c in lookup.items():\n",
    "        # get a key and value pair for each constituency and its overlap\n",
    "        for constituency_code, overlap in c.items():\n",
    "            # if constituency doesn't exist, loop over columns and set all to 0.\n",
    "            if constituency_code not in df.index.to_list():\n",
    "                for cname in df.columns.to_list():\n",
    "                    df.loc[constituency_code, cname] = 0.0\n",
    "            for col in df.columns.to_list():\n",
    "                # try:\n",
    "                #     # calculate the share of charging devices in each constituency\n",
    "                share = data.loc[data['ONS LA Code']==la, col].values[0]*overlap\n",
    "                df.loc[constituency_code, col] += share\n",
    "                # except:\n",
    "                #     print('failed')\n",
    "        \n",
    "    if floor==True:\n",
    "        df = df.apply(np.floor)\n",
    "\n",
    "    return df\n",
    "\n",
    "def fix_ons_codes(old_codes, new_code, df, code_col, value_col):\n",
    "    '''\n",
    "    Params\n",
    "    ---\n",
    "\n",
    "    old_codes: list of the old codes to fix.\n",
    "\n",
    "    new_code: string for code that replaces old codes.\n",
    "\n",
    "    df: dataframe.\n",
    "\n",
    "    code_col: name of the column in the df that has the GSS codes.\n",
    "\n",
    "    value_col: name of the column containing the values to add up.\n",
    "    '''\n",
    "    # Replace the list with the ONS codes you want to sum\n",
    "    sum_value = df[df[code_col].isin(old_codes)][value_col].sum()\n",
    "\n",
    "    # Create a new row with the new ONS code and the calculated sum\n",
    "    new_row = pd.DataFrame({f\"{code_col}\": [new_code], f\"{value_col}\": [sum_value]})\n",
    "\n",
    "    # Append the new row to the DataFrame\n",
    "    df = pd.concat([df, new_row], ignore_index=True)\n",
    "    return df"
   ]
  },
  {
   "cell_type": "markdown",
   "metadata": {},
   "source": [
    "Get the total number of workplace sockets installed by local authority. These use the latest LA codes (2023/24 - 361)."
   ]
  },
  {
   "cell_type": "code",
   "execution_count": 3,
   "metadata": {},
   "outputs": [],
   "source": [
    "workplace_charging = read_data(\"raw-data/electric-vehicle-charging-device-grant-scheme-statistics-january-2025.ods\", sheet_name='4', engine='odf', skiprows=2)\n",
    "workplace_charging = filter_local_authorities(workplace_charging, 'ONS LA Code')\n",
    "workplace_charging = workplace_charging.loc[:, ['ONS LA Code', 'Sockets Installed']]\n",
    "workplace_charging.rename(columns={'Sockets Installed': 'workplace-jan-25'}, inplace=True)"
   ]
  },
  {
   "cell_type": "markdown",
   "metadata": {},
   "source": [
    "Get the total number of home charging \"devices\" (could these have >1 sockets?) by local authority. These use old LA codes as so some fixes are applied.\n",
    "See <https://en.wikipedia.org/wiki/2019%E2%80%932023_structural_changes_to_local_government_in_England>"
   ]
  },
  {
   "cell_type": "code",
   "execution_count": 4,
   "metadata": {},
   "outputs": [],
   "source": [
    "home_charging = read_data(\"raw-data/electric-vehicle-charging-device-grant-scheme-statistics-january-2025.ods\", sheet_name='13', engine='odf', skiprows=2)\n",
    "home_charging = filter_local_authorities(home_charging, 'ONS LA Code')\n",
    "home_charging = home_charging.loc[:, ['ONS LA Code', 'Grand Total']]\n",
    "home_charging.rename(columns={'Grand Total': 'home-2022'}, inplace=True)\n",
    "# Allerdale, Carlisle and Copeland are now cumbria.\n",
    "home_charging = fix_ons_codes(old_codes=['E07000026', 'E07000028', 'E07000029'], \n",
    "                              new_code='E06000063', \n",
    "                              code_col='ONS LA Code', \n",
    "                              df=home_charging, \n",
    "                              value_col='home-2022')\n",
    "# Barrow in furness, eden and south lakeland are now westmorland and furness\n",
    "home_charging = fix_ons_codes(old_codes=['E07000027', 'E07000030', 'E07000031'], \n",
    "                              new_code='E06000064', \n",
    "                              code_col='ONS LA Code', \n",
    "                              df=home_charging, \n",
    "                              value_col='home-2022')\n",
    "# North yorkshire replaced the 7 north yorkshire LAs.\n",
    "home_charging = fix_ons_codes(old_codes=['E07000163','E07000164','E07000165','E07000166','E07000167','E07000168','E07000169'], \n",
    "                              new_code='E06000065', \n",
    "                              code_col='ONS LA Code', \n",
    "                              df=home_charging, \n",
    "                              value_col='home-2022')\n",
    "# Somerset replaced Mendip, Sedgemoor, Somerset West and Taunton, and South Somerset\n",
    "home_charging = fix_ons_codes(old_codes=['E07000187','E07000188','E07000246','E07000189',], \n",
    "                              new_code='E06000066', \n",
    "                              code_col='ONS LA Code', \n",
    "                              df=home_charging, \n",
    "                              value_col='home-2022')"
   ]
  },
  {
   "cell_type": "markdown",
   "metadata": {},
   "source": [
    "### Map 2024 LADs PCON24CD"
   ]
  },
  {
   "cell_type": "code",
   "execution_count": 5,
   "metadata": {},
   "outputs": [
    {
     "data": {
      "text/html": [
       "<div>\n",
       "<style scoped>\n",
       "    .dataframe tbody tr th:only-of-type {\n",
       "        vertical-align: middle;\n",
       "    }\n",
       "\n",
       "    .dataframe tbody tr th {\n",
       "        vertical-align: top;\n",
       "    }\n",
       "\n",
       "    .dataframe thead th {\n",
       "        text-align: right;\n",
       "    }\n",
       "</style>\n",
       "<table border=\"1\" class=\"dataframe\">\n",
       "  <thead>\n",
       "    <tr style=\"text-align: right;\">\n",
       "      <th></th>\n",
       "      <th>workplace-jan-25</th>\n",
       "      <th>home-2022</th>\n",
       "    </tr>\n",
       "    <tr>\n",
       "      <th>PCON24CD</th>\n",
       "      <th></th>\n",
       "      <th></th>\n",
       "    </tr>\n",
       "  </thead>\n",
       "  <tbody>\n",
       "    <tr>\n",
       "      <th>E14001272</th>\n",
       "      <td>53</td>\n",
       "      <td>375</td>\n",
       "    </tr>\n",
       "    <tr>\n",
       "      <th>E14001367</th>\n",
       "      <td>76</td>\n",
       "      <td>253</td>\n",
       "    </tr>\n",
       "    <tr>\n",
       "      <th>E14001368</th>\n",
       "      <td>116</td>\n",
       "      <td>511</td>\n",
       "    </tr>\n",
       "    <tr>\n",
       "      <th>E14001440</th>\n",
       "      <td>25</td>\n",
       "      <td>140</td>\n",
       "    </tr>\n",
       "    <tr>\n",
       "      <th>E14001518</th>\n",
       "      <td>138</td>\n",
       "      <td>482</td>\n",
       "    </tr>\n",
       "    <tr>\n",
       "      <th>...</th>\n",
       "      <td>...</td>\n",
       "      <td>...</td>\n",
       "    </tr>\n",
       "    <tr>\n",
       "      <th>W07000088</th>\n",
       "      <td>41</td>\n",
       "      <td>284</td>\n",
       "    </tr>\n",
       "    <tr>\n",
       "      <th>W07000105</th>\n",
       "      <td>59</td>\n",
       "      <td>414</td>\n",
       "    </tr>\n",
       "    <tr>\n",
       "      <th>W07000109</th>\n",
       "      <td>46</td>\n",
       "      <td>303</td>\n",
       "    </tr>\n",
       "    <tr>\n",
       "      <th>W07000101</th>\n",
       "      <td>66</td>\n",
       "      <td>739</td>\n",
       "    </tr>\n",
       "    <tr>\n",
       "      <th>W07000104</th>\n",
       "      <td>66</td>\n",
       "      <td>471</td>\n",
       "    </tr>\n",
       "  </tbody>\n",
       "</table>\n",
       "<p>650 rows × 2 columns</p>\n",
       "</div>"
      ],
      "text/plain": [
       "          workplace-jan-25 home-2022\n",
       "PCON24CD                            \n",
       "E14001272               53       375\n",
       "E14001367               76       253\n",
       "E14001368              116       511\n",
       "E14001440               25       140\n",
       "E14001518              138       482\n",
       "...                    ...       ...\n",
       "W07000088               41       284\n",
       "W07000105               59       414\n",
       "W07000109               46       303\n",
       "W07000101               66       739\n",
       "W07000104               66       471\n",
       "\n",
       "[650 rows x 2 columns]"
      ]
     },
     "execution_count": 5,
     "metadata": {},
     "output_type": "execute_result"
    }
   ],
   "source": [
    "home_and_workplace = pd.merge(home_charging, workplace_charging)\n",
    "# merged['total'] = merged[['workplace-jan-25', 'home-2022']].sum(axis=1)\n",
    "home_and_workplace = local_authority_to_constituency(home_and_workplace)\n",
    "home_and_workplace"
   ]
  },
  {
   "cell_type": "markdown",
   "metadata": {},
   "source": [
    "### Public charging\n",
    "This has kindly been processed. Combining this with the current data only requires a small amount of renaming."
   ]
  },
  {
   "cell_type": "code",
   "execution_count": 6,
   "metadata": {},
   "outputs": [],
   "source": [
    "public = pd.read_csv(\"src/themes/transport/ev-charging-points/_data/release/electric-vehicle-public-charging-infrastructure-statistics-january-2025-table-7a.csv\",\n",
    "                     usecols=['Parliamentary constituency Code', 'Jan-25'])\n",
    "public.rename(columns={'Jan-25': 'public-jan-25', \"Parliamentary constituency Code\": 'PCON24CD'}, inplace=True)\n",
    "public.set_index(\"PCON24CD\", inplace=True)"
   ]
  },
  {
   "cell_type": "markdown",
   "metadata": {},
   "source": [
    "Now merge the public, home, and workplace data"
   ]
  },
  {
   "cell_type": "code",
   "execution_count": 7,
   "metadata": {},
   "outputs": [],
   "source": [
    "result = public.merge(home_and_workplace, on='PCON24CD')\n",
    "result['total'] = result.sum(axis=1)\n",
    "result.to_csv(\"src/themes/transport/ev-charging-points/_data/release/ev_charging_points.csv\")"
   ]
  }
 ],
 "metadata": {
  "kernelspec": {
   "display_name": "constituencies-fLEqD0N8",
   "language": "python",
   "name": "python3"
  },
  "language_info": {
   "codemirror_mode": {
    "name": "ipython",
    "version": 3
   },
   "file_extension": ".py",
   "mimetype": "text/x-python",
   "name": "python",
   "nbconvert_exporter": "python",
   "pygments_lexer": "ipython3",
   "version": "3.10.14"
  },
  "orig_nbformat": 4
 },
 "nbformat": 4,
 "nbformat_minor": 2
}
