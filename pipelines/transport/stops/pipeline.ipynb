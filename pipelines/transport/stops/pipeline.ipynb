{
 "cells": [
  {
   "cell_type": "markdown",
   "metadata": {},
   "source": [
    "# Import modules"
   ]
  },
  {
   "cell_type": "code",
   "execution_count": 1,
   "metadata": {},
   "outputs": [],
   "source": [
    "import pandas as pd\n",
    "import geopandas as gpd\n",
    "from bng_latlon import OSGB36toWGS84"
   ]
  },
  {
   "cell_type": "markdown",
   "metadata": {},
   "source": [
    "# Read data"
   ]
  },
  {
   "cell_type": "code",
   "execution_count": 2,
   "metadata": {},
   "outputs": [],
   "source": [
    "# Read the stops data\n",
    "stops = pd.read_csv(\n",
    "        \"../../../pipelines/transport/stops/data/stops.csv\",\n",
    "        usecols=['ATCOCode', 'NaptanCode', 'Latitude', 'Longitude', 'Easting', 'Northing', 'StopType', 'BusStopType', 'Status'], \n",
    "        low_memory=False\n",
    "        )\n",
    "\n",
    "# Read the constituency geoJSON\n",
    "constituency_gdf = gpd.read_file(\"../../../pipelines/transport/stops/data/Westminster_Parliamentary_Constituencies_July_2024_Boundaries_UK_BGC_-8097874740651686118.geojson\")\n",
    "# Filter the two columns we need\n",
    "constituency_gdf = constituency_gdf[['PCON24CD', 'geometry']].copy()"
   ]
  },
  {
   "cell_type": "markdown",
   "metadata": {},
   "source": [
    "# Fill in missing Lat/long using Easting and Northing"
   ]
  },
  {
   "cell_type": "code",
   "execution_count": 3,
   "metadata": {},
   "outputs": [],
   "source": [
    "# Apply function row-wise\n",
    "stops[['Latitude', 'Longitude']] = stops.apply(\n",
    "    lambda row: OSGB36toWGS84(row['Easting'], row['Northing']) if pd.isna(row['Latitude']) or pd.isna(row['Longitude']) else (row['Latitude'], row['Longitude']), \n",
    "    axis=1, result_type=\"expand\"\n",
    ")"
   ]
  },
  {
   "cell_type": "markdown",
   "metadata": {},
   "source": [
    "# Data cleansing"
   ]
  },
  {
   "cell_type": "code",
   "execution_count": 4,
   "metadata": {},
   "outputs": [],
   "source": [
    "# Drop duplicates in NaptanCode and coordinates\n",
    "stops.drop_duplicates(subset=['Latitude', 'Longitude', 'NaptanCode'], inplace=True)\n",
    "# Get active stops only\n",
    "stops = stops[stops.Status == 'active'].copy()"
   ]
  },
  {
   "cell_type": "markdown",
   "metadata": {},
   "source": [
    "## Prepare, analyse and reshape data"
   ]
  },
  {
   "cell_type": "code",
   "execution_count": 5,
   "metadata": {},
   "outputs": [],
   "source": [
    "def stops_to_constituencies(stops, constituency_gdf, out):\n",
    "    ## Convert Lat/Long to a GeoDataFrame using points_from_xy\n",
    "    geometry = gpd.points_from_xy(stops['Longitude'], stops['Latitude'])\n",
    "    ## Create the geodataframe\n",
    "    points_gdf = gpd.GeoDataFrame(stops, geometry=geometry, crs=constituency_gdf.crs)\n",
    "    ## Spatial join to find which geometry each point falls into\n",
    "    joined = gpd.sjoin(points_gdf, constituency_gdf, how='left', predicate='within')\n",
    "    ## Group the data and value count\n",
    "    group = joined.groupby(['StopType'])['PCON24CD'].value_counts().reset_index()\n",
    "    ## Pivot data\n",
    "    wide = group.pivot(index='PCON24CD', columns='StopType', values='count')\n",
    "    wide['alltypes'] = joined['PCON24CD'].value_counts()\n",
    "    ## Write to file\n",
    "    wide.to_csv(out)"
   ]
  },
  {
   "cell_type": "markdown",
   "metadata": {},
   "source": [
    "## Write to file"
   ]
  },
  {
   "cell_type": "code",
   "execution_count": 6,
   "metadata": {},
   "outputs": [],
   "source": [
    "stops_to_constituencies(stops, constituency_gdf, \"../../../src/themes/transport/transport-stops/_data/release/all.csv\")"
   ]
  },
  {
   "cell_type": "markdown",
   "metadata": {},
   "source": [
    "## Stop types\n",
    "\n",
    "### BusCoach\n",
    "\n",
    "- BCT: On-street Bus/Coach/Trolley\n",
    "- BCE: Bus/Coach station entrance\n",
    "- BST: Bus/coach access area\n",
    "- BCS: Bus/Coach Bay/stand etc\n",
    "- BCQ: Bus Coach statopm variable bay\n",
    "\n",
    "### Taxi\n",
    "\n",
    "- TXR: Taxi rank\n",
    "- STR: shared Taxi Rank\n",
    "\n",
    "### Car\n",
    "\n",
    "- SDA: Set down area\n",
    "\n",
    "### Air\n",
    "\n",
    "- AIR: airport entrance\n",
    "- GAT: airport interchange area\n",
    "\n",
    "### Rail\n",
    "\n",
    "- RSE: railway entrance\n",
    "- RLY: railway interchange area\n",
    "- RPL: Railway platform\n",
    "\n",
    "### Tram/Metro\n",
    "\n",
    "- TMU: tram/metro/underground entrance\n",
    "- MET: unerground or metro interchange area\n",
    "- PLT: underground or metro platform"
   ]
  }
 ],
 "metadata": {
  "kernelspec": {
   "display_name": "constituencies-fLEqD0N8",
   "language": "python",
   "name": "python3"
  },
  "language_info": {
   "codemirror_mode": {
    "name": "ipython",
    "version": 3
   },
   "file_extension": ".py",
   "mimetype": "text/x-python",
   "name": "python",
   "nbconvert_exporter": "python",
   "pygments_lexer": "ipython3",
   "version": "3.10.14"
  }
 },
 "nbformat": 4,
 "nbformat_minor": 2
}
